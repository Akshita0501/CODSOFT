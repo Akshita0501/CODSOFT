{
  "nbformat": 4,
  "nbformat_minor": 0,
  "metadata": {
    "colab": {
      "provenance": [],
      "authorship_tag": "ABX9TyOhdIeAm9X+wZgBzM2Aaun9",
      "include_colab_link": true
    },
    "kernelspec": {
      "name": "python3",
      "display_name": "Python 3"
    },
    "language_info": {
      "name": "python"
    }
  },
  "cells": [
    {
      "cell_type": "markdown",
      "metadata": {
        "id": "view-in-github",
        "colab_type": "text"
      },
      "source": [
        "<a href=\"https://colab.research.google.com/github/Akshita0501/CODSOFT/blob/main/HandWritten_Text_Generation.ipynb\" target=\"_parent\"><img src=\"https://colab.research.google.com/assets/colab-badge.svg\" alt=\"Open In Colab\"/></a>"
      ]
    },
    {
      "cell_type": "code",
      "source": [
        "!pip install opencv-python pytesseract Pillow\n",
        "!apt-get install tesseract-ocr\n",
        "\n"
      ],
      "metadata": {
        "colab": {
          "base_uri": "https://localhost:8080/"
        },
        "id": "kjCrGEnj8ST-",
        "outputId": "279d8318-d9aa-4479-a34a-6cf5841aa49b"
      },
      "execution_count": null,
      "outputs": [
        {
          "output_type": "stream",
          "name": "stdout",
          "text": [
            "Requirement already satisfied: opencv-python in /usr/local/lib/python3.10/dist-packages (4.8.0.76)\n",
            "Collecting pytesseract\n",
            "  Downloading pytesseract-0.3.10-py3-none-any.whl (14 kB)\n",
            "Requirement already satisfied: Pillow in /usr/local/lib/python3.10/dist-packages (9.4.0)\n",
            "Requirement already satisfied: numpy>=1.21.2 in /usr/local/lib/python3.10/dist-packages (from opencv-python) (1.23.5)\n",
            "Requirement already satisfied: packaging>=21.3 in /usr/local/lib/python3.10/dist-packages (from pytesseract) (23.2)\n",
            "Installing collected packages: pytesseract\n",
            "Successfully installed pytesseract-0.3.10\n",
            "Reading package lists... Done\n",
            "Building dependency tree... Done\n",
            "Reading state information... Done\n",
            "The following additional packages will be installed:\n",
            "  tesseract-ocr-eng tesseract-ocr-osd\n",
            "The following NEW packages will be installed:\n",
            "  tesseract-ocr tesseract-ocr-eng tesseract-ocr-osd\n",
            "0 upgraded, 3 newly installed, 0 to remove and 9 not upgraded.\n",
            "Need to get 4,816 kB of archives.\n",
            "After this operation, 15.6 MB of additional disk space will be used.\n",
            "Get:1 http://archive.ubuntu.com/ubuntu jammy/universe amd64 tesseract-ocr-eng all 1:4.00~git30-7274cfa-1.1 [1,591 kB]\n",
            "Get:2 http://archive.ubuntu.com/ubuntu jammy/universe amd64 tesseract-ocr-osd all 1:4.00~git30-7274cfa-1.1 [2,990 kB]\n",
            "Get:3 http://archive.ubuntu.com/ubuntu jammy/universe amd64 tesseract-ocr amd64 4.1.1-2.1build1 [236 kB]\n",
            "Fetched 4,816 kB in 1s (3,439 kB/s)\n",
            "Selecting previously unselected package tesseract-ocr-eng.\n",
            "(Reading database ... 120880 files and directories currently installed.)\n",
            "Preparing to unpack .../tesseract-ocr-eng_1%3a4.00~git30-7274cfa-1.1_all.deb ...\n",
            "Unpacking tesseract-ocr-eng (1:4.00~git30-7274cfa-1.1) ...\n",
            "Selecting previously unselected package tesseract-ocr-osd.\n",
            "Preparing to unpack .../tesseract-ocr-osd_1%3a4.00~git30-7274cfa-1.1_all.deb ...\n",
            "Unpacking tesseract-ocr-osd (1:4.00~git30-7274cfa-1.1) ...\n",
            "Selecting previously unselected package tesseract-ocr.\n",
            "Preparing to unpack .../tesseract-ocr_4.1.1-2.1build1_amd64.deb ...\n",
            "Unpacking tesseract-ocr (4.1.1-2.1build1) ...\n",
            "Setting up tesseract-ocr-eng (1:4.00~git30-7274cfa-1.1) ...\n",
            "Setting up tesseract-ocr-osd (1:4.00~git30-7274cfa-1.1) ...\n",
            "Setting up tesseract-ocr (4.1.1-2.1build1) ...\n",
            "Processing triggers for man-db (2.10.2-1) ...\n"
          ]
        }
      ]
    },
    {
      "cell_type": "code",
      "source": [
        "import os\n",
        "import zipfile\n",
        "from google.colab import drive\n",
        "import cv2\n",
        "from PIL import Image\n",
        "import pytesseract\n",
        "\n",
        "# Mount Google Drive\n",
        "drive.mount('/content/drive')\n",
        "\n",
        "# Specify the path to your zip file on Google Drive\n",
        "zip_file_path = '/content/drive/MyDrive/handwritten.zip'\n",
        "\n",
        "extraction_dir = '/content/dataset'\n",
        "\n",
        "# Extract the dataset from the ZIP file\n",
        "with zipfile.ZipFile(zip_file_path, 'r') as zip_ref:\n",
        "    zip_ref.extractall(extraction_dir)\n",
        "\n",
        "extracted_files = os.listdir(extraction_dir)\n",
        "print(\"Extracted files:\", extracted_files)\n",
        "\n",
        "image_path = os.path.join(extraction_dir, 'sample1.png')\n",
        "image = cv2.imread(image_path)\n",
        "\n",
        "# Perform OCR on the image using pytesseract\n",
        "text = pytesseract.image_to_string(image)\n",
        "\n",
        "print(\"Extracted Text:\", text)\n"
      ],
      "metadata": {
        "colab": {
          "base_uri": "https://localhost:8080/"
        },
        "id": "FGOsv6qI8ko1",
        "outputId": "8d9ab682-cde5-4d7f-9271-dcee0aa82203"
      },
      "execution_count": null,
      "outputs": [
        {
          "output_type": "stream",
          "name": "stdout",
          "text": [
            "Mounted at /content/drive\n",
            "Extracted files: ['0_13_55.jpg', '0_10_615_.jpg', '0_10_30.jpg', 'sample2.png', '0_11_55.jpg', '0_9_623.jpg', '0_9_16.jpg', '0_10_23.jpg', 'sample1.png', '0_13_614.jpg']\n",
            "Extracted Text: b DOLLA\n",
            "\n",
            "1961\n",
            "\n",
            "én crenbw,\n",
            "Wonro, Zomro. | Kyza? Sauem?\n",
            "Zi KK\n",
            "OU\n",
            "Ham sro FS leaer He y3HaTb.\n",
            "OH yBUye BOUI-\n",
            "Ka,\n",
            "ag\n",
            "UMLy, ; MATb...\n",
            ": {UCLy, Le\n",
            "3apociax\n",
            "4 De he g f ’\n",
            "u ocKaJIMB\n",
            "OrkuHys Jlatibl macrs\n",
            "LAM KALA .\n",
            "U\n",
            "jlepexBa4eHHOro\n",
            "He rape au TLIbWIA\n",
            "Cnilth\n",
            "d\n",
            "Tom4ukaMu rycTad, CIOBHO\n",
            "KPOBb, : bee bi rpa3b.\n",
            "Kem? Kem? OxoTHH4buMu\n",
            "9\n",
            "Bomkom? 4 micamMu?\n",
            "9TO He y3HaTb.\n",
            "MW Bopya,. coca-\n",
            "om\n",
            "HermoaTsIMByt!0\n",
            "MaTb.\n",
            "nmo3a6biin,\n",
            "th\n",
            "B 3apocs1ax\n",
            "ory ykpor.\n",
            "K MaMe, 2KaJ,HO\n",
            "TIMI\n",
            "Tycryro xos10- —\n",
            "F ff\n",
            "AprOulyr f} LUO OO\n",
            "C rnmorKamu B BXOUMIIA 2KAarK-\n",
            "HUX / ; qa MecTu.\n",
            "AAA\n",
            "Komy? JI1060- JIummp 651 He\n",
            "y\n",
            "My. “NO IIPOCTHTb.\n",
            "AKKA\n",
            ",\n",
            "Yu 6yayT\n",
            "MCTUTb\n",
            "i\n",
            "UY\n",
            "He snecte.\n",
            "Alpyr apyry\n",
            "VU uenopex n0-\n",
            "més\n",
            "Kyza?.. Sa-\n",
            "yem?..\n",
            "On Opi BOs- Ho sowuaT He\n",
            "daTHuK, - af 5 Tpouys,\n",
            "4 fo ATV UKKK\n",
            "3allnmasa\n",
            "Pe6aT yxxe He Y,\n",
            "CQ m POOL KE MAaTb...\n",
            "\n",
            " \n",
            "\n",
            " \n",
            " \n",
            "      \n",
            "       \n",
            "      \n",
            "   \n",
            " \n",
            "       \n",
            " \n",
            "    \n",
            "      \n",
            "      \n",
            "   \n",
            "  \n",
            "    \n",
            "\n",
            " \n",
            " \n",
            "   \n",
            "\n",
            "  \n",
            " \n",
            "  \n",
            " \n",
            "  \n",
            " \n",
            "  \n",
            " \n",
            "   \n",
            "\n",
            "B rycro# s0-\n",
            "mywHe\n",
            "\n",
            "  \n",
            "\n",
            "  \n",
            "\n",
            "Crenbim —BOJI-\n",
            "yaTaM\n",
            "\n",
            "Oun, TouIKasacbh\n",
            "TonmogHpie BOosI-\n",
            "yata\n",
            "\n",
            "Kak  BylacTHO\n",
            "maxHeT\n",
            "\n",
            "Oxnu, mpyoKaB-\n",
            "WIHCb\n",
            "\n",
            "  \n",
            "\n",
            "  \n",
            "\n",
            "     \n",
            "\n",
            "   \n",
            "\n",
            "B  orgembHo-\n",
            "cTH,\n",
            "\n",
            "A BcTpeTatca —\n",
            "\n",
            "6yayT MCTHTD.\n",
            "\n",
            " \n",
            "  \n",
            "  \n",
            " \n",
            "\n",
            " \n",
            "\n",
            "  \n",
            "\n",
            " \n",
            "  \n",
            "   \n",
            "\n",
            "cBoeit Zoporoi.\n",
            "\n",
            "Ham o92ToO He\n",
            "y3Harb.\n",
            "\n",
            "   \n",
            " \n",
            "    \n",
            "  \n",
            " \n",
            " \n",
            "\n",
            " \n",
            "\n",
            "    \n",
            "\f\n"
          ]
        }
      ]
    },
    {
      "cell_type": "code",
      "source": [
        "# Process the extracted text\n",
        "processed_text = text.replace('\\n', ' ').strip()\n",
        "print(\"Processed Text:\", processed_text)\n"
      ],
      "metadata": {
        "colab": {
          "base_uri": "https://localhost:8080/"
        },
        "id": "b4RaM5hR9Zqt",
        "outputId": "a79278f7-686c-470d-91dc-3c19ce724d65"
      },
      "execution_count": null,
      "outputs": [
        {
          "output_type": "stream",
          "name": "stdout",
          "text": [
            "Processed Text: b DOLLA  1961  én crenbw, Wonro, Zomro. | Kyza? Sauem? Zi KK OU Ham sro FS leaer He y3HaTb. OH yBUye BOUI- Ka, ag UMLy, ; MATb... : {UCLy, Le 3apociax 4 De he g f ’ u ocKaJIMB OrkuHys Jlatibl macrs LAM KALA . U jlepexBa4eHHOro He rape au TLIbWIA Cnilth d Tom4ukaMu rycTad, CIOBHO KPOBb, : bee bi rpa3b. Kem? Kem? OxoTHH4buMu 9 Bomkom? 4 micamMu? 9TO He y3HaTb. MW Bopya,. coca- om HermoaTsIMByt!0 MaTb. nmo3a6biin, th B 3apocs1ax ory ykpor. K MaMe, 2KaJ,HO TIMI Tycryro xos10- — F ff AprOulyr f} LUO OO C rnmorKamu B BXOUMIIA 2KAarK- HUX / ; qa MecTu. AAA Komy? JI1060- JIummp 651 He y My. “NO IIPOCTHTb. AKKA , Yu 6yayT MCTUTb i UY He snecte. Alpyr apyry VU uenopex n0- més Kyza?.. Sa- yem?.. On Opi BOs- Ho sowuaT He daTHuK, - af 5 Tpouys, 4 fo ATV UKKK 3allnmasa Pe6aT yxxe He Y, CQ m POOL KE MAaTb...                                                                                                                 B rycro# s0- mywHe          Crenbim —BOJI- yaTaM  Oun, TouIKasacbh TonmogHpie BOosI- yata  Kak  BylacTHO maxHeT  Oxnu, mpyoKaB- WIHCb                      B  orgembHo- cTH,  A BcTpeTatca —  6yayT MCTHTD.                              cBoeit Zoporoi.  Ham o92ToO He y3Harb.\n"
          ]
        }
      ]
    },
    {
      "cell_type": "code",
      "source": [
        "import os\n",
        "\n",
        "# Display the current working directory\n",
        "print(\"Current working directory:\", os.getcwd())\n",
        "\n",
        "# List the files in the current working directory\n",
        "files_in_cwd = os.listdir()\n",
        "print(\"Files in current working directory:\", files_in_cwd)\n"
      ],
      "metadata": {
        "colab": {
          "base_uri": "https://localhost:8080/"
        },
        "id": "8dCg_PWs-4EV",
        "outputId": "2778323a-e7ca-43a5-b580-a90fbf1c6b64"
      },
      "execution_count": null,
      "outputs": [
        {
          "output_type": "stream",
          "name": "stdout",
          "text": [
            "Current working directory: /content\n",
            "Files in current working directory: ['.config', 'drive', 'dataset', 'sample_data']\n"
          ]
        }
      ]
    },
    {
      "cell_type": "code",
      "source": [
        "import os\n",
        "\n",
        "# Directory where the images are extracted\n",
        "extracted_dir = '/content/dataset/'\n",
        "import pytesseract\n",
        "from PIL import Image\n",
        "\n",
        "def perform_ocr(image_path):\n",
        "    # Open the image using Pillow (PIL)\n",
        "    img = Image.open(image_path)\n",
        "\n",
        "    # Perform OCR on the image using pytesseract\n",
        "    text = pytesseract.image_to_string(img)\n",
        "\n",
        "    return text\n",
        "\n",
        "\n",
        "# Loop through each image file in the directory\n",
        "for file_name in os.listdir(extracted_dir):\n",
        "    if file_name.endswith(('.jpg', '.png')):  # Check if the file is an image\n",
        "        image_path = os.path.join(extracted_dir, file_name)\n",
        "        text_from_image = perform_ocr(image_path)\n"
      ],
      "metadata": {
        "id": "Kp2Yskyl-_-n"
      },
      "execution_count": null,
      "outputs": []
    },
    {
      "cell_type": "code",
      "source": [
        "import os\n",
        "import numpy as np\n",
        "import cv2\n",
        "from sklearn.model_selection import train_test_split\n",
        "from tensorflow import keras\n",
        "from tensorflow.keras import layers\n",
        "\n",
        "# Load images and corresponding text labels\n",
        "data_dir = '/content/dataset/'\n",
        "images = []\n",
        "labels = []\n",
        "\n",
        "for file_name in os.listdir(data_dir):\n",
        "    if file_name.endswith('.jpg') or file_name.endswith('.png'):\n",
        "        image_path = os.path.join(data_dir, file_name)\n",
        "        img = cv2.imread(image_path, cv2.IMREAD_GRAYSCALE)\n",
        "        img = cv2.resize(img, (32, 32))  # Adjust size as needed\n",
        "        img = img / 255.0  # Normalize pixel values\n",
        "        label = perform_ocr(image_path)  # Replace with your OCR function\n",
        "        images.append(img)\n",
        "        labels.append(label)\n",
        "\n",
        "# Convert labels to sequences of characters\n",
        "characters = sorted(set(\"\".join(labels)))\n",
        "char_to_index = {char: index for index, char in enumerate(characters)}\n",
        "index_to_char = {index: char for index, char in enumerate(characters)}\n",
        "\n",
        "labels_as_int = [np.array([char_to_index[char] for char in label]) for label in labels]\n",
        "\n",
        "# Convert data to numpy arrays\n",
        "X = np.array(images)\n",
        "y = keras.preprocessing.sequence.pad_sequences(labels_as_int)\n",
        "\n",
        "# Split the dataset into training and validation sets\n",
        "X_train, X_val, y_train, y_val = train_test_split(X, y, test_size=0.2, random_state=42)\n",
        "max_len = max(len(label) for label in labels)\n",
        "\n",
        "# Build the RNN model\n",
        "model = keras.Sequential([\n",
        "    layers.Conv2D(32, (3, 3), activation='relu', input_shape=(32, 32, 1)),\n",
        "    layers.MaxPooling2D((2, 2)),\n",
        "    layers.Flatten(),\n",
        "    layers.Dense(128, activation='relu'),\n",
        "    layers.RepeatVector(max_len),  # max_len is the maximum length of your sequences\n",
        "    layers.LSTM(128, return_sequences=True),\n",
        "    layers.TimeDistributed(layers.Dense(len(characters), activation='softmax'))\n",
        "])\n",
        "\n",
        "# Compile the model\n",
        "model.compile(optimizer='adam', loss='sparse_categorical_crossentropy', metrics=['accuracy'])\n",
        "\n",
        "# Train the model\n",
        "model.fit(X_train, y_train, validation_data=(X_val, y_val), epochs=10)\n",
        "\n",
        "# Check if the character is in the dictionary, otherwise assign a new index\n",
        "def get_index(char):\n",
        "    if char in char_to_index:\n",
        "        return char_to_index[char]\n",
        "    else:\n",
        "        new_index = len(char_to_index)\n",
        "        char_to_index[char] = new_index\n",
        "        index_to_char[new_index] = char\n",
        "        return new_index\n",
        "\n",
        "\n",
        "\n",
        "\n",
        "\n",
        "\n",
        "\n",
        "\n"
      ],
      "metadata": {
        "colab": {
          "base_uri": "https://localhost:8080/"
        },
        "id": "P7c1ydt-GpYm",
        "outputId": "b4a42bbd-4fab-40a6-b898-54d88d292a41"
      },
      "execution_count": null,
      "outputs": [
        {
          "output_type": "stream",
          "name": "stdout",
          "text": [
            "Epoch 1/10\n",
            "1/1 [==============================] - 6s 6s/step - loss: 4.5064 - accuracy: 1.0297e-04 - val_loss: 3.7895 - val_accuracy: 0.5667\n",
            "Epoch 2/10\n",
            "1/1 [==============================] - 1s 1s/step - loss: 3.3835 - accuracy: 0.9344 - val_loss: 3.2636 - val_accuracy: 0.5667\n",
            "Epoch 3/10\n",
            "1/1 [==============================] - 2s 2s/step - loss: 2.4334 - accuracy: 0.9344 - val_loss: 2.8939 - val_accuracy: 0.5667\n",
            "Epoch 4/10\n",
            "1/1 [==============================] - 2s 2s/step - loss: 1.6787 - accuracy: 0.9344 - val_loss: 2.7069 - val_accuracy: 0.5667\n",
            "Epoch 5/10\n",
            "1/1 [==============================] - 2s 2s/step - loss: 1.1748 - accuracy: 0.9344 - val_loss: 2.6593 - val_accuracy: 0.5667\n",
            "Epoch 6/10\n",
            "1/1 [==============================] - 2s 2s/step - loss: 0.8608 - accuracy: 0.9344 - val_loss: 2.7231 - val_accuracy: 0.5667\n",
            "Epoch 7/10\n",
            "1/1 [==============================] - 1s 1s/step - loss: 0.6805 - accuracy: 0.9344 - val_loss: 2.8560 - val_accuracy: 0.5667\n",
            "Epoch 8/10\n",
            "1/1 [==============================] - 1s 1s/step - loss: 0.5860 - accuracy: 0.9344 - val_loss: 3.0268 - val_accuracy: 0.5667\n",
            "Epoch 9/10\n",
            "1/1 [==============================] - 1s 1s/step - loss: 0.5422 - accuracy: 0.9344 - val_loss: 3.2081 - val_accuracy: 0.5667\n",
            "Epoch 10/10\n",
            "1/1 [==============================] - 1s 1s/step - loss: 0.5281 - accuracy: 0.9344 - val_loss: 3.3753 - val_accuracy: 0.5667\n"
          ]
        }
      ]
    },
    {
      "cell_type": "code",
      "source": [
        "import matplotlib.pyplot as plt\n",
        "\n",
        "\n",
        "# Plot training history\n",
        "def plot_history(history):\n",
        "    # Plot training & validation loss values\n",
        "    plt.figure(figsize=(12, 6))\n",
        "    plt.subplot(1, 2, 1)\n",
        "    plt.plot(history.history['loss'])\n",
        "    plt.plot(history.history['val_loss'])\n",
        "    plt.title('Model Loss')\n",
        "    plt.xlabel('Epoch')\n",
        "    plt.ylabel('Loss')\n",
        "    plt.legend(['Train', 'Validation'], loc='upper right')\n",
        "\n",
        "    # Plot training & validation accuracy values\n",
        "    plt.subplot(1, 2, 2)\n",
        "    plt.plot(history.history['accuracy'])\n",
        "    plt.plot(history.history['val_accuracy'])\n",
        "    plt.title('Model Accuracy')\n",
        "    plt.xlabel('Epoch')\n",
        "    plt.ylabel('Accuracy')\n",
        "    plt.legend(['Train', 'Validation'], loc='lower right')\n",
        "\n",
        "    plt.show()\n",
        "\n",
        "# Plot the training history\n",
        "plot_history(history)\n"
      ],
      "metadata": {
        "id": "Ew2uT7qGLYxL",
        "colab": {
          "base_uri": "https://localhost:8080/",
          "height": 564
        },
        "outputId": "187f7ab9-9f29-4426-9b70-ebf2c86e8921"
      },
      "execution_count": null,
      "outputs": [
        {
          "output_type": "display_data",
          "data": {
            "text/plain": [
              "<Figure size 1200x600 with 2 Axes>"
            ],
            "image/png": "[encoded data removed]"
          },
          "metadata": {}
        }
      ]
    },
    {
      "cell_type": "code",
      "source": [],
      "metadata": {
        "id": "VHwLv1_o7RIL"
      },
      "execution_count": null,
      "outputs": []
    }
  ]
}